{
 "cells": [
  {
   "cell_type": "code",
   "execution_count": 1,
   "metadata": {},
   "outputs": [],
   "source": [
    "import numpy as np\n",
    "import pandas as pd\n",
    "from sklearn.base import BaseEstimator, ClusterMixin"
   ]
  },
  {
   "cell_type": "code",
   "execution_count": 119,
   "metadata": {
    "scrolled": true
   },
   "outputs": [],
   "source": [
    "def standardize(labels):\n",
    "#Standardize numerical feature\n",
    "    return (labels-labels.mean())/labels.std(ddof=0)\n",
    "\n",
    "def cat_encode(labels):\n",
    "    ids, new_labels = np.unique(labels, return_inverse=True)\n",
    "    return new_labels, ids\n",
    "    \n",
    "def mode2(a, axis=0, val=False):\n",
    "#Return mode or mode freq of an array\n",
    "#code based on scipy.stats.mode\n",
    "    scores = np.unique(np.ravel(a))      \n",
    "    testshape = list(a.shape)\n",
    "    testshape[axis] = 1\n",
    "    oldmostfreq = np.zeros(testshape, dtype=a.dtype)\n",
    "    oldcounts = np.zeros(testshape, dtype=int)\n",
    "\n",
    "    for score in scores:\n",
    "        template = (a == score)\n",
    "        counts = np.expand_dims(np.sum(template, axis),axis)\n",
    "        mostfrequent = np.where(counts > oldcounts, score, oldmostfreq)\n",
    "        oldcounts = np.maximum(counts, oldcounts)\n",
    "        oldmostfreq = mostfrequent\n",
    "    \n",
    "    return oldcounts[0] if val else mostfrequent[0]\n"
   ]
  },
  {
   "cell_type": "code",
   "execution_count": 53,
   "metadata": {},
   "outputs": [],
   "source": [
    "a = pd.read_csv('data/3nja-bsch.tsv', sep='\\t')\n",
    "a = a.round(1)\n",
    "#a2 = a.dropna().copy()\n",
    "a2 = a.copy()\n",
    "a2.reset_index(inplace=True, drop=True)\n",
    "for col in a2:\n",
    "    typ = str(a2[col].dtype)\n",
    "    if typ in ['int', 'int32', 'int64','float', 'float32', 'float64']:\n",
    "        a2[col] = standardize(a2[col])\n",
    "   "
   ]
  },
  {
   "cell_type": "code",
   "execution_count": 4,
   "metadata": {},
   "outputs": [],
   "source": [
    "b = pd.read_csv('data/h3zm-ta5h.tsv', sep='\\t')\n",
    "b = b.round(1)\n",
    "b2 = b.dropna().copy()\n",
    "b2.reset_index(inplace=True, drop=True)\n",
    "bCodes = []\n",
    "for col in b2:\n",
    "    typ = str(b2[col].dtype)\n",
    "    if typ in ['int', 'int32', 'int64','float', 'float32', 'float64']:\n",
    "        b2[col] = standardize(b2[col])\n",
    "    elif typ in ['object', 'string']:\n",
    "        b2[col], fcodes = cat_encode(b2[col])\n",
    "        bCodes.append(fcodes)"
   ]
  },
  {
   "cell_type": "code",
   "execution_count": 51,
   "metadata": {},
   "outputs": [
    {
     "data": {
      "text/plain": [
       "array(['hello', 'My', 'name', 'stevie'], dtype='<U6')"
      ]
     },
     "execution_count": 51,
     "metadata": {},
     "output_type": "execute_result"
    }
   ],
   "source": [
    "cMsk = np.array([\"hello\", 'My', 'name', 'is', 'stevie', 'wonder'])\n",
    "missing = np.array([3,5])\n",
    "cMsk[np.setdiff1d(np.arange(cMsk.shape[0]), missing)]"
   ]
  },
  {
   "cell_type": "code",
   "execution_count": 152,
   "metadata": {},
   "outputs": [],
   "source": [
    "class Feature:\n",
    "#Feature subclass for better use with KModes\n",
    "    def __init__(self, featType, labels):\n",
    "        #values in array form and feature dtype\n",
    "        self.vals = labels[~pd.isnull(labels)]\n",
    "        self.missing = np.where(pd.isnull(labels))[0]\n",
    "        self.size = self.vals.shape[0]\n",
    "        self.type = featType\n",
    "        #unique values, their orig indices and counts\n",
    "        vals, inds, counts = np.unique(self.vals, return_inverse=True, return_counts=True)\n",
    "        #Feature dictionary for use in itialization\n",
    "        self.valDict = {v:c for v,c in  zip(vals, counts)}\n",
    "        #frequency of values in orig indices\n",
    "        self.valFreq = counts[inds]\n",
    "        self.valFreqMiss = np.insert(counts[inds], self.missing, 0)\n",
    "        return\n",
    "    \n",
    "    def getCenter(self, cMsk):\n",
    "    #Get center of feature in given centroid\n",
    "        #Mean for num features\n",
    "        msk = cMsk[np.setdiff1d(np.arange(cMsk.shape[0]), self.missing)]\n",
    "        if self.type==float:\n",
    "            return self.vals[msk].mean()\n",
    "        #Mode for cat features\n",
    "        else:\n",
    "            return mode2(self.vals[msk], val=False)        \n",
    "    \n",
    "    def getDissimilarity(self, cntr, cMsk=None):\n",
    "    #Given centroid center, get dissimilarity\n",
    "        #Numerical feature use euclidean distance\n",
    "        if self.type==float: \n",
    "            dissims = (self.vals - cntr)**2\n",
    "        else:\n",
    "            #Get Weight of points, from WHICH paper?\n",
    "            weights = (self.valFreq + self.valDict[cntr])/(self.valFreq * self.valDict[cntr])\n",
    "            #2007 dissimilarity\n",
    "            if cMsk is not None:\n",
    "                msk = cMsk[np.setdiff1d(np.arange(cMsk.shape[0]), self.missing)]\n",
    "                dissims = weights * (1-(self.vals==cntr).astype(int) *((self.vals[msk] == cntr).sum()/msk.sum()))\n",
    "            #Classic dissimilarity\n",
    "            else:\n",
    "                dissims = weights * (self.vals != cntr).astype(int)\n",
    "                \n",
    "        dissims2 = np.insert(dissims, self.missing, 0).astype(float)\n",
    "        return dissims2\n",
    "        \n",
    "    def calcEntropy(self, cMsk):\n",
    "        msk = cMsk[np.setdiff1d(np.arange(cMsk.shape[0]), self.missing)]\n",
    "        local_vals = self.vals[msk]\n",
    "        if local_vals.shape[0] == 1: return 0\n",
    "        \n",
    "        keys, counts_raw = np.unique(local_vals, return_counts=True)        \n",
    "        counts = counts_raw[counts_raw.nonzero()]\n",
    "        probs = counts/counts.sum() \n",
    "\n",
    "        label_entropy = -np.sum(probs * np.log(probs)) \n",
    "        entropy_weight = 2*(1 - 1/(1 + np.exp(-label_entropy)))\n",
    "        return entropy_weight * label_entropy\n",
    "\n",
    "#######################################################################################################################\n",
    "\n",
    "def initIndivCentroid(features, info, cntrd_id):\n",
    "    cntrd_tmp = [0 for i in range(info['n_ftrs'])]\n",
    "\n",
    "    for f, feat in enumerate(features):\n",
    "        f_id = cntrd_id - np.sum(feat.missing < cntrd_id)\n",
    "        if f_id in feat.missing:\n",
    "            cntrd_tmp[f] = feat.getCenter(np.ones(feat.size, dtype=bool))\n",
    "        else:\n",
    "            cntrd_tmp[f] = feat.vals[f]\n",
    "\n",
    "    return cntrd_tmp\n",
    "\n",
    "def initCentroids(features, info):\n",
    "#Init centroids based on Cao Paper\n",
    "    #Empty list of centroids\n",
    "    cntrds = [0 for i in range(info['n_clstrs'])]\n",
    "    #Density of each point\n",
    "    dens = np.zeros(info['n_rows'])\n",
    "    #Iterate through features\n",
    "    for feat in features:\n",
    "        #Update point density\n",
    "        dens += (feat.valFreqMiss/(info['n_rows']*info['n_clstrs']))\n",
    "    cntrds[0] = initIndivCentroid(features, info, dens.argmax())\n",
    "    #Iterate though remaining centroids, adapted from github implementation \n",
    "    for ki in range(1, info['n_clstrs']):\n",
    "        adj_dens = np.zeros((ki, info['n_rows']))\n",
    "        #Iterate through already created centroids\n",
    "        for kii in range(0,ki):\n",
    "            #Similarity btwn cntrds and pts\n",
    "            dissims = np.zeros((info['n_rows'], info['n_ftrs']))\n",
    "            #dissims = np.zeros(info['n_rows'])\n",
    "            #Iterate through features\n",
    "            for f, feat in enumerate(features):\n",
    "                dissims[:,f] += feat.getDissimilarity(cntrds[kii][f])\n",
    "            #Densities * similarites\n",
    "            adj_dens[kii] = dens * dissims.sum(axis=1)\n",
    "        #New centroid has max dens*sims from previous centroids\n",
    "        print(np.argmax(np.min(adj_dens, axis=0)))\n",
    "        cntrds[ki] = initIndivCentroid(features, info, np.argmax(np.min(adj_dens, axis=0)))\n",
    "    #Assign intial membship\n",
    "    print(cntrds)\n",
    "    cntrds, membship, cost = assignMembship(cntrds, features, info)\n",
    "    print(membship)\n",
    "    return cntrds, membship, cost\n",
    "\n",
    "def assignMembship(cntrds, features, info, membship=None, pred=True):\n",
    "#Assign membship to centroids, membship=True if dissim is 2007, pred=True for KModes predict\n",
    "    dissims = np.zeros((info['n_rows'], info['n_clstrs']))\n",
    "    #Iterate through centroids\n",
    "    for i, cntrd in enumerate(cntrds):\n",
    "        #Get num and cat feat sims  \n",
    "        num_feats = np.zeros((info['n_rows'], info['num']))\n",
    "        cat_feats = np.zeros((info['n_rows'], info['cat']))\n",
    "        n, c = 0, 0\n",
    "        #Iterate thorugh features\n",
    "        for f, feat in enumerate(features):\n",
    "            #Num features\n",
    "            if isinstance(feat.type, (float, int)):\n",
    "                num_feats[:,n] += feat.getDissimilarity(cntrd[f])\n",
    "                n += 1\n",
    "            #Cat geatures\n",
    "            else:\n",
    "                #Choose which dissim to use\n",
    "                if membship is not None:\n",
    "                    #2007 dissim\n",
    "                    cntrdMask = (membship == i)\n",
    "                    cat_feats[:,c] += feat.getDissimilarity(cntrd[f], cntrdMask)\n",
    "                else:\n",
    "                    #Orig disim\n",
    "                    cat_feats[:,c] += feat.getDissimilarity(cntrd[f])\n",
    "                c += 1\n",
    "        #Sims of given centroid\n",
    "        dissims[:,i] = num_feats.sum(axis=1) + info['gamma'] * cat_feats.sum(axis=1)\n",
    "    #Choose smallest dissim for each pt\n",
    "    membship = dissims.argmin(axis=1)\n",
    "    #Cost is sum of smallest dissim\n",
    "    cost = dissims.min(axis=1).sum()\n",
    "    #If centroid has no assigned pts\n",
    "    if (np.unique(membship).shape[0] != info['n_clstrs'])&(not pred):\n",
    "        print('meep meep')\n",
    "        cntrds = newCentroids(cntrds, features, membship, info)\n",
    "        #Recursively assign membship\n",
    "        cntrds, membship, cost = assignMemship(cntrds, features, info, membship)\n",
    "    return cntrds, membship, cost\n",
    "\n",
    "def newCentroids(cntrds, features, membship, info):\n",
    "#Create new centroids if centroid is not present in membship\n",
    "    #Missing centroids\n",
    "    missing = np.setdiff1d(range(0,info['n_clstrs']), membship)\n",
    "    #Largest centroid\n",
    "    max_cntrd = mode2(membship, val=False)\n",
    "    #Choose pts from largest centroid\n",
    "    new_cntrds = np.random.choice(np.where(membship == max_cntrd)[0], missing.shape[0])\n",
    "    #Replace old centroids with new points\n",
    "    for m, nc in zip(missing, new_cntrds):\n",
    "        cntrds[m] = [feat.vals[new_cntrds[nc]] for feat in features]\n",
    "    return cntrds\n",
    "\n",
    "def setCentroids(features, membship, info, dissim):\n",
    "#Set centroids from center of each feature\n",
    "    cntrds = [0 for c in range(info['n_clstrs'])]\n",
    "    #Iterate through centroids, get approp center for each feature\n",
    "    for i in range(info['n_clstrs']):\n",
    "        cntrds[i] = [feat.getCenter(membship==i) for feat in features]\n",
    "    #2007 dissim, pass membship\n",
    "    if dissim:\n",
    "        cntrds, membship, cost = assignMembship(cntrds, features, info, membship)\n",
    "    #Classsic dissim\n",
    "    else:\n",
    "        cntrds, membship, cost = assignMembship(cntrds, features, info)\n",
    "    return cntrds, membship, cost\n",
    " \n",
    "def setMembshipToMatrix(membship, info):\n",
    "#Convert membship to 2D array\n",
    "    labels = np.zeros((info['n_rows'], info['n_clstrs']))\n",
    "    for r, cls, in enumerate(membship):\n",
    "        labels[r, cls] += 1\n",
    "    return labels\n",
    "\n",
    "def doGWE(features, msk):\n",
    "    assigned = np.where(msk)[0]\n",
    "    tot_e = np.sum([feat.calcEntropy(msk) for feat in features]) #calc initial weighted-entropy\n",
    "    o_factors = np.array([tot_e for x in range(assigned.shape[0])])\n",
    "    for o, i in enumerate(assigned):\n",
    "        msk[i] = False\n",
    "        wo = np.sum([feat.calcEntropy(msk) for feat in features])\n",
    "        o_factors[o]  -= wo if wo != 0 else (tot_e + 1)\n",
    "        msk[i] = True\n",
    "    msk_msk = (o_factors > 0) \n",
    "    pts = np.zeros(msk.shape[0], dtype=bool)\n",
    "    pts[assigned] = msk_msk\n",
    "    return np.arange(msk.shape[0])[pts]\n",
    "\n",
    "def getOutliers(features, membship, info):\n",
    "    outliersList =  [0 for i in range(info['n_clstrs'])]\n",
    "    \n",
    "    for i in range(info['n_clstrs']):\n",
    "        outliersList[i] = doGWE(features, membship == i)\n",
    "        \n",
    "    return np.array(list(itertools.chain.from_iterable(outliersList)))   \n",
    "\n",
    "\n",
    "#######################################################################################################################\n",
    "\n",
    "class KModes(BaseEstimator, ClusterMixin):\n",
    "#Implementation of KModes, with help from github implementation\n",
    "    def __init__(self, n_clusters=5, max_iter=100, gamma=1, dissim=False):\n",
    "        #Keep all size information in dictionary\n",
    "        self.info = {}\n",
    "        self.info['n_clstrs'], self.info['max_itr'] = n_clusters, max_iter\n",
    "        self.info['gamma'] = 1\n",
    "        #2007 dissim or classic dissim\n",
    "        self.dissim = dissim\n",
    "        return     \n",
    "    \n",
    "    def fit(self, X, types):\n",
    "    #Fit KModes to data\n",
    "        #Convert Pandas to np array\n",
    "        if 'pandas' in str(X.__class__):\n",
    "            X = X.values\n",
    "        \n",
    "        self.info['n_rows'], self.info['n_ftrs'] = X.shape\n",
    "        #Too few clusters\n",
    "        assert self.info['n_clstrs'] <= self.info['n_rows']\n",
    "        #Features to better form\n",
    "        self.features = np.array([Feature(types[i], X[:,i]) for i in range(X.shape[1])])\n",
    "        #Save n_ftrs and c_ftrs\n",
    "        self.info['num'] = int(np.sum([1 for feat in self.features if isinstance(feat.type, (float, int))]))\n",
    "        self.info['cat'] = int(self.info['n_ftrs'] - self.info['num'])\n",
    "        \n",
    "        #Init centroids, membship and cost\n",
    "        cntrds, membship, cost = initCentroids(self.features, self.info)\n",
    "    \n",
    "        #Iterate until convergence or max iteration reached\n",
    "        itr, converged = 0, False\n",
    "        while (itr <= self.info['max_itr'])&(not converged):\n",
    "            itr += 1\n",
    "            #Set centroids, membship\n",
    "            cntrds, new_membship, new_cost = setCentroids(self.features, membship, self.info, self.dissim)\n",
    "            #Check if any pts changed membship\n",
    "            chngs = np.sum(new_membship != membship)\n",
    "            #Convergence conditions\n",
    "            converged = (chngs == 0)|(new_cost >= cost)\n",
    "            membship, cost = new_membship, new_cost\n",
    "        \n",
    "        #Save fit info\n",
    "        self.outliers_ = getOutliers(self.features, membship, self.info)\n",
    "        self.membship_ = membship\n",
    "        self.matrix_ = setMembshipToMatrix(membship, self.info)\n",
    "        self.centroids_, self.cost_, self.itr_ = cntrds, cost, itr\n",
    "        return self   \n",
    "    \n",
    "    def predict(self, X):\n",
    "    #Given new data, assignMembship to centroids\n",
    "        assert hasattr(self, 'centroids_'), \"Model not yet fit\"\n",
    "        if 'pandas' in str(X.__class__):\n",
    "            X = X.values\n",
    "        new_features = np.array([Feature(col.dtype, col) for col in X.T])\n",
    "        new_info = self.info.copy()\n",
    "        new_info[pts] = X.shape[0]\n",
    "        cntrds, membship, cost = assignMembship(self.centroids_, new_features, new_info, pred=True)\n",
    "        new_labels = setMembshipToLabels(membship, info)\n",
    "        return new_labels, cost\n",
    "    \n",
    "    def fit_predict(self, X):\n",
    "        return self.fit(X).predict(X)\n"
   ]
  },
  {
   "cell_type": "code",
   "execution_count": 153,
   "metadata": {
    "scrolled": true
   },
   "outputs": [
    {
     "name": "stdout",
     "output_type": "stream",
     "text": [
      "42\n",
      "42\n",
      "42\n",
      "[['Manhattan', -0.17600317834736973, -0.2618809378756785, -0.2829793313085895, -0.16244057660745223, -0.18619765324471543, -0.2779193235854625, 'Fort Washington', 'Countee Cullen Network', -0.2788893525934614, -0.29322444780240503, -0.16421453905667516, -0.38250635765946306, -0.31995784962517604, -0.23878462786486346, -0.3073843363784663, -0.4010614669204707, -0.2606269526250922, -0.24877743766213622, 2.4733983865856835, -0.399445232415379, -0.3498004227552997], ['Manhattan', -0.17600317834736973, -0.2618809378756785, -0.2829793313085895, -0.16244057660745223, -0.18619765324471543, -0.2779193235854625, 'Fort Washington', 'Countee Cullen Network', -0.2788893525934614, -0.29322444780240503, -0.16421453905667516, -0.38250635765946306, -0.31995784962517604, -0.23878462786486346, -0.3073843363784663, -0.4010614669204707, -0.2606269526250922, -0.24877743766213622, 2.4733983865856835, -0.399445232415379, -0.3498004227552997], ['Manhattan', -0.17600317834736973, -0.2618809378756785, -0.2829793313085895, -0.16244057660745223, -0.18619765324471543, -0.2779193235854625, 'Fort Washington', 'Countee Cullen Network', -0.2788893525934614, -0.29322444780240503, -0.16421453905667516, -0.38250635765946306, -0.31995784962517604, -0.23878462786486346, -0.3073843363784663, -0.4010614669204707, -0.2606269526250922, -0.24877743766213622, 2.4733983865856835, -0.399445232415379, -0.3498004227552997], ['Manhattan', -0.17600317834736973, -0.2618809378756785, -0.2829793313085895, -0.16244057660745223, -0.18619765324471543, -0.2779193235854625, 'Fort Washington', 'Countee Cullen Network', -0.2788893525934614, -0.29322444780240503, -0.16421453905667516, -0.38250635765946306, -0.31995784962517604, -0.23878462786486346, -0.3073843363784663, -0.4010614669204707, -0.2606269526250922, -0.24877743766213622, 2.4733983865856835, -0.399445232415379, -0.3498004227552997]]\n",
      "[0 0 0 0 0 0 0 0 0 0 0 0 0 0 0 0 0 0 0 0 0 0 0 0 0 0 0 0 0 0 0 0 0 0 0 0 0\n",
      " 0 0 0 0 0 0]\n"
     ]
    },
    {
     "ename": "UnboundLocalError",
     "evalue": "local variable 'mostfrequent' referenced before assignment",
     "output_type": "error",
     "traceback": [
      "\u001b[1;31m---------------------------------------------------------------------------\u001b[0m",
      "\u001b[1;31mUnboundLocalError\u001b[0m                         Traceback (most recent call last)",
      "\u001b[1;32m<ipython-input-153-3c3ec414ed70>\u001b[0m in \u001b[0;36m<module>\u001b[1;34m()\u001b[0m\n\u001b[0;32m      1\u001b[0m \u001b[0ma_types\u001b[0m \u001b[1;33m=\u001b[0m \u001b[1;33m[\u001b[0m\u001b[0mstr\u001b[0m\u001b[1;33m,\u001b[0m \u001b[0mfloat\u001b[0m\u001b[1;33m,\u001b[0m \u001b[0mfloat\u001b[0m\u001b[1;33m,\u001b[0m \u001b[0mfloat\u001b[0m\u001b[1;33m,\u001b[0m \u001b[0mfloat\u001b[0m\u001b[1;33m,\u001b[0m \u001b[0mfloat\u001b[0m\u001b[1;33m,\u001b[0m \u001b[0mfloat\u001b[0m\u001b[1;33m,\u001b[0m \u001b[0mstr\u001b[0m\u001b[1;33m,\u001b[0m \u001b[0mstr\u001b[0m\u001b[1;33m,\u001b[0m \u001b[0mfloat\u001b[0m\u001b[1;33m,\u001b[0m \u001b[0mfloat\u001b[0m\u001b[1;33m,\u001b[0m \u001b[0mfloat\u001b[0m\u001b[1;33m,\u001b[0m \u001b[0mfloat\u001b[0m\u001b[1;33m,\u001b[0m \u001b[0mfloat\u001b[0m\u001b[1;33m,\u001b[0m \u001b[0mfloat\u001b[0m\u001b[1;33m,\u001b[0m \u001b[0mfloat\u001b[0m\u001b[1;33m,\u001b[0m \u001b[0mfloat\u001b[0m\u001b[1;33m,\u001b[0m \u001b[0mfloat\u001b[0m\u001b[1;33m,\u001b[0m \u001b[0mfloat\u001b[0m\u001b[1;33m,\u001b[0m \u001b[0mfloat\u001b[0m\u001b[1;33m,\u001b[0m \u001b[0mfloat\u001b[0m\u001b[1;33m,\u001b[0m \u001b[0mfloat\u001b[0m\u001b[1;33m]\u001b[0m\u001b[1;33m\u001b[0m\u001b[0m\n\u001b[1;32m----> 2\u001b[1;33m \u001b[0mninjaClusters\u001b[0m \u001b[1;33m=\u001b[0m \u001b[0mKModes\u001b[0m\u001b[1;33m(\u001b[0m\u001b[0mn_clusters\u001b[0m\u001b[1;33m=\u001b[0m\u001b[0mint\u001b[0m\u001b[1;33m(\u001b[0m\u001b[0mnp\u001b[0m\u001b[1;33m.\u001b[0m\u001b[0msqrt\u001b[0m\u001b[1;33m(\u001b[0m\u001b[0ma2\u001b[0m\u001b[1;33m.\u001b[0m\u001b[0mshape\u001b[0m\u001b[1;33m[\u001b[0m\u001b[1;36m0\u001b[0m\u001b[1;33m]\u001b[0m\u001b[1;33m/\u001b[0m\u001b[1;36m2\u001b[0m\u001b[1;33m)\u001b[0m\u001b[1;33m)\u001b[0m\u001b[1;33m)\u001b[0m\u001b[1;33m.\u001b[0m\u001b[0mfit\u001b[0m\u001b[1;33m(\u001b[0m\u001b[0ma2\u001b[0m\u001b[1;33m,\u001b[0m \u001b[0ma_types\u001b[0m\u001b[1;33m)\u001b[0m\u001b[1;33m\u001b[0m\u001b[0m\n\u001b[0m",
      "\u001b[1;32m<ipython-input-152-060c358c318b>\u001b[0m in \u001b[0;36mfit\u001b[1;34m(self, X, types)\u001b[0m\n\u001b[0;32m    238\u001b[0m             \u001b[0mitr\u001b[0m \u001b[1;33m+=\u001b[0m \u001b[1;36m1\u001b[0m\u001b[1;33m\u001b[0m\u001b[0m\n\u001b[0;32m    239\u001b[0m             \u001b[1;31m#Set centroids, membship\u001b[0m\u001b[1;33m\u001b[0m\u001b[1;33m\u001b[0m\u001b[0m\n\u001b[1;32m--> 240\u001b[1;33m             \u001b[0mcntrds\u001b[0m\u001b[1;33m,\u001b[0m \u001b[0mnew_membship\u001b[0m\u001b[1;33m,\u001b[0m \u001b[0mnew_cost\u001b[0m \u001b[1;33m=\u001b[0m \u001b[0msetCentroids\u001b[0m\u001b[1;33m(\u001b[0m\u001b[0mself\u001b[0m\u001b[1;33m.\u001b[0m\u001b[0mfeatures\u001b[0m\u001b[1;33m,\u001b[0m \u001b[0mmembship\u001b[0m\u001b[1;33m,\u001b[0m \u001b[0mself\u001b[0m\u001b[1;33m.\u001b[0m\u001b[0minfo\u001b[0m\u001b[1;33m,\u001b[0m \u001b[0mself\u001b[0m\u001b[1;33m.\u001b[0m\u001b[0mdissim\u001b[0m\u001b[1;33m)\u001b[0m\u001b[1;33m\u001b[0m\u001b[0m\n\u001b[0m\u001b[0;32m    241\u001b[0m             \u001b[1;31m#Check if any pts changed membship\u001b[0m\u001b[1;33m\u001b[0m\u001b[1;33m\u001b[0m\u001b[0m\n\u001b[0;32m    242\u001b[0m             \u001b[0mchngs\u001b[0m \u001b[1;33m=\u001b[0m \u001b[0mnp\u001b[0m\u001b[1;33m.\u001b[0m\u001b[0msum\u001b[0m\u001b[1;33m(\u001b[0m\u001b[0mnew_membship\u001b[0m \u001b[1;33m!=\u001b[0m \u001b[0mmembship\u001b[0m\u001b[1;33m)\u001b[0m\u001b[1;33m\u001b[0m\u001b[0m\n",
      "\u001b[1;32m<ipython-input-152-060c358c318b>\u001b[0m in \u001b[0;36msetCentroids\u001b[1;34m(features, membship, info, dissim)\u001b[0m\n\u001b[0;32m    163\u001b[0m     \u001b[1;31m#Iterate through centroids, get approp center for each feature\u001b[0m\u001b[1;33m\u001b[0m\u001b[1;33m\u001b[0m\u001b[0m\n\u001b[0;32m    164\u001b[0m     \u001b[1;32mfor\u001b[0m \u001b[0mi\u001b[0m \u001b[1;32min\u001b[0m \u001b[0mrange\u001b[0m\u001b[1;33m(\u001b[0m\u001b[0minfo\u001b[0m\u001b[1;33m[\u001b[0m\u001b[1;34m'n_clstrs'\u001b[0m\u001b[1;33m]\u001b[0m\u001b[1;33m)\u001b[0m\u001b[1;33m:\u001b[0m\u001b[1;33m\u001b[0m\u001b[0m\n\u001b[1;32m--> 165\u001b[1;33m         \u001b[0mcntrds\u001b[0m\u001b[1;33m[\u001b[0m\u001b[0mi\u001b[0m\u001b[1;33m]\u001b[0m \u001b[1;33m=\u001b[0m \u001b[1;33m[\u001b[0m\u001b[0mfeat\u001b[0m\u001b[1;33m.\u001b[0m\u001b[0mgetCenter\u001b[0m\u001b[1;33m(\u001b[0m\u001b[0mmembship\u001b[0m\u001b[1;33m==\u001b[0m\u001b[0mi\u001b[0m\u001b[1;33m)\u001b[0m \u001b[1;32mfor\u001b[0m \u001b[0mfeat\u001b[0m \u001b[1;32min\u001b[0m \u001b[0mfeatures\u001b[0m\u001b[1;33m]\u001b[0m\u001b[1;33m\u001b[0m\u001b[0m\n\u001b[0m\u001b[0;32m    166\u001b[0m     \u001b[1;31m#2007 dissim, pass membship\u001b[0m\u001b[1;33m\u001b[0m\u001b[1;33m\u001b[0m\u001b[0m\n\u001b[0;32m    167\u001b[0m     \u001b[1;32mif\u001b[0m \u001b[0mdissim\u001b[0m\u001b[1;33m:\u001b[0m\u001b[1;33m\u001b[0m\u001b[0m\n",
      "\u001b[1;32m<ipython-input-152-060c358c318b>\u001b[0m in \u001b[0;36m<listcomp>\u001b[1;34m(.0)\u001b[0m\n\u001b[0;32m    163\u001b[0m     \u001b[1;31m#Iterate through centroids, get approp center for each feature\u001b[0m\u001b[1;33m\u001b[0m\u001b[1;33m\u001b[0m\u001b[0m\n\u001b[0;32m    164\u001b[0m     \u001b[1;32mfor\u001b[0m \u001b[0mi\u001b[0m \u001b[1;32min\u001b[0m \u001b[0mrange\u001b[0m\u001b[1;33m(\u001b[0m\u001b[0minfo\u001b[0m\u001b[1;33m[\u001b[0m\u001b[1;34m'n_clstrs'\u001b[0m\u001b[1;33m]\u001b[0m\u001b[1;33m)\u001b[0m\u001b[1;33m:\u001b[0m\u001b[1;33m\u001b[0m\u001b[0m\n\u001b[1;32m--> 165\u001b[1;33m         \u001b[0mcntrds\u001b[0m\u001b[1;33m[\u001b[0m\u001b[0mi\u001b[0m\u001b[1;33m]\u001b[0m \u001b[1;33m=\u001b[0m \u001b[1;33m[\u001b[0m\u001b[0mfeat\u001b[0m\u001b[1;33m.\u001b[0m\u001b[0mgetCenter\u001b[0m\u001b[1;33m(\u001b[0m\u001b[0mmembship\u001b[0m\u001b[1;33m==\u001b[0m\u001b[0mi\u001b[0m\u001b[1;33m)\u001b[0m \u001b[1;32mfor\u001b[0m \u001b[0mfeat\u001b[0m \u001b[1;32min\u001b[0m \u001b[0mfeatures\u001b[0m\u001b[1;33m]\u001b[0m\u001b[1;33m\u001b[0m\u001b[0m\n\u001b[0m\u001b[0;32m    166\u001b[0m     \u001b[1;31m#2007 dissim, pass membship\u001b[0m\u001b[1;33m\u001b[0m\u001b[1;33m\u001b[0m\u001b[0m\n\u001b[0;32m    167\u001b[0m     \u001b[1;32mif\u001b[0m \u001b[0mdissim\u001b[0m\u001b[1;33m:\u001b[0m\u001b[1;33m\u001b[0m\u001b[0m\n",
      "\u001b[1;32m<ipython-input-152-060c358c318b>\u001b[0m in \u001b[0;36mgetCenter\u001b[1;34m(self, cMsk)\u001b[0m\n\u001b[0;32m     24\u001b[0m         \u001b[1;31m#Mode for cat features\u001b[0m\u001b[1;33m\u001b[0m\u001b[1;33m\u001b[0m\u001b[0m\n\u001b[0;32m     25\u001b[0m         \u001b[1;32melse\u001b[0m\u001b[1;33m:\u001b[0m\u001b[1;33m\u001b[0m\u001b[0m\n\u001b[1;32m---> 26\u001b[1;33m             \u001b[1;32mreturn\u001b[0m \u001b[0mmode2\u001b[0m\u001b[1;33m(\u001b[0m\u001b[0mself\u001b[0m\u001b[1;33m.\u001b[0m\u001b[0mvals\u001b[0m\u001b[1;33m[\u001b[0m\u001b[0mmsk\u001b[0m\u001b[1;33m]\u001b[0m\u001b[1;33m,\u001b[0m \u001b[0mval\u001b[0m\u001b[1;33m=\u001b[0m\u001b[1;32mFalse\u001b[0m\u001b[1;33m)\u001b[0m\u001b[1;33m\u001b[0m\u001b[0m\n\u001b[0m\u001b[0;32m     27\u001b[0m \u001b[1;33m\u001b[0m\u001b[0m\n\u001b[0;32m     28\u001b[0m     \u001b[1;32mdef\u001b[0m \u001b[0mgetDissimilarity\u001b[0m\u001b[1;33m(\u001b[0m\u001b[0mself\u001b[0m\u001b[1;33m,\u001b[0m \u001b[0mcntr\u001b[0m\u001b[1;33m,\u001b[0m \u001b[0mcMsk\u001b[0m\u001b[1;33m=\u001b[0m\u001b[1;32mNone\u001b[0m\u001b[1;33m)\u001b[0m\u001b[1;33m:\u001b[0m\u001b[1;33m\u001b[0m\u001b[0m\n",
      "\u001b[1;32m<ipython-input-119-8231e9f22e10>\u001b[0m in \u001b[0;36mmode2\u001b[1;34m(a, axis, val)\u001b[0m\n\u001b[0;32m     23\u001b[0m         \u001b[0moldmostfreq\u001b[0m \u001b[1;33m=\u001b[0m \u001b[0mmostfrequent\u001b[0m\u001b[1;33m\u001b[0m\u001b[0m\n\u001b[0;32m     24\u001b[0m \u001b[1;33m\u001b[0m\u001b[0m\n\u001b[1;32m---> 25\u001b[1;33m     \u001b[1;32mreturn\u001b[0m \u001b[0moldcounts\u001b[0m\u001b[1;33m[\u001b[0m\u001b[1;36m0\u001b[0m\u001b[1;33m]\u001b[0m \u001b[1;32mif\u001b[0m \u001b[0mval\u001b[0m \u001b[1;32melse\u001b[0m \u001b[0mmostfrequent\u001b[0m\u001b[1;33m[\u001b[0m\u001b[1;36m0\u001b[0m\u001b[1;33m]\u001b[0m\u001b[1;33m\u001b[0m\u001b[0m\n\u001b[0m",
      "\u001b[1;31mUnboundLocalError\u001b[0m: local variable 'mostfrequent' referenced before assignment"
     ]
    }
   ],
   "source": [
    "a_types = [str, float, float, float, float, float, float, str, str, float, float, float, float, float, float, float, float, float, float, float, float, float]\n",
    "ninjaClusters = KModes(n_clusters=int(np.sqrt(a2.shape[0]/2))).fit(a2, a_types)"
   ]
  },
  {
   "cell_type": "code",
   "execution_count": 54,
   "metadata": {
    "scrolled": true
   },
   "outputs": [],
   "source": [
    "b_types = [float, str, float, float, str, float, float, float, float, float, float, float, float, str, float, float]\n",
    "h3zmClusters = KModes(n_clusters=int(np.sqrt(b2.shape[0]/2))).fit(b2, b_types)"
   ]
  },
  {
   "cell_type": "code",
   "execution_count": 56,
   "metadata": {},
   "outputs": [
    {
     "data": {
      "text/plain": [
       "array([39, 40])"
      ]
     },
     "execution_count": 56,
     "metadata": {},
     "output_type": "execute_result"
    }
   ],
   "source": [
    "ninjaClusters.outliers_"
   ]
  },
  {
   "cell_type": "code",
   "execution_count": 55,
   "metadata": {
    "scrolled": true
   },
   "outputs": [
    {
     "data": {
      "text/plain": [
       "array([152, 166, 248, 262, 264, 346, 444, 458, 183, 185, 191, 485, 187,\n",
       "        72,  74, 154, 464, 466, 104, 202, 300, 398])"
      ]
     },
     "execution_count": 55,
     "metadata": {},
     "output_type": "execute_result"
    }
   ],
   "source": [
    "h3zmClusters.outliers_"
   ]
  },
  {
   "cell_type": "code",
   "execution_count": 60,
   "metadata": {},
   "outputs": [
    {
     "data": {
      "text/plain": [
       "4"
      ]
     },
     "execution_count": 60,
     "metadata": {},
     "output_type": "execute_result"
    }
   ],
   "source": [
    "int(np.sqrt(a2.shape[0]/2))"
   ]
  }
 ],
 "metadata": {
  "kernelspec": {
   "display_name": "Python 3",
   "language": "python",
   "name": "python3"
  },
  "language_info": {
   "codemirror_mode": {
    "name": "ipython",
    "version": 3
   },
   "file_extension": ".py",
   "mimetype": "text/x-python",
   "name": "python",
   "nbconvert_exporter": "python",
   "pygments_lexer": "ipython3",
   "version": "3.6.4"
  }
 },
 "nbformat": 4,
 "nbformat_minor": 2
}
