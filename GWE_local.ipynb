{
 "cells": [
  {
   "cell_type": "code",
   "execution_count": 1,
   "metadata": {},
   "outputs": [],
   "source": [
    "import numpy as np\n",
    "import pandas as pd\n",
    "from scipy import stats\n",
    "import matplotlib.pyplot as plt\n",
    "%matplotlib inline"
   ]
  },
  {
   "cell_type": "code",
   "execution_count": 6,
   "metadata": {},
   "outputs": [
    {
     "name": "stdout",
     "output_type": "stream",
     "text": [
      "Before Clean: (43, 22)\n",
      "After Clean: (41, 22)\n",
      "Before Clean: (385, 22)\n",
      "After Clean: (385, 22)\n",
      "Before Clean: (490, 16)\n",
      "After Clean: (490, 16)\n",
      "Before Clean: (251, 48)\n",
      "After Clean: (217, 48)\n"
     ]
    }
   ],
   "source": [
    "b = pd.read_csv('data/3nja-bsch.tsv', sep='\\t')\n",
    "b = b.round(1)\n",
    "print('Before Clean:', b.shape)\n",
    "b.dropna(how = 'any', inplace=True)\n",
    "b.reset_index(drop=True, inplace=True)\n",
    "print('After Clean:', b.shape)\n",
    "\n",
    "c = pd.read_csv('data/avir-tzek.tsv', sep='\\t')\n",
    "d = c.round(1)\n",
    "print('Before Clean:', c.shape)\n",
    "c.dropna(how = 'any', inplace=True)\n",
    "c.reset_index(drop=True, inplace=True)\n",
    "print('After Clean:', c.shape)\n",
    "\n",
    "d = pd.read_csv('data/h3zm-ta5h.tsv', sep='\\t')\n",
    "d = d.round(1)\n",
    "print('Before Clean:', d.shape)\n",
    "d.dropna(how = 'any', inplace=True)\n",
    "d.reset_index(drop=True, inplace=True)\n",
    "print('After Clean:', d.shape)\n",
    "\n",
    "e = pd.read_csv('data/m59i-mqex.tsv', sep='\\t')\n",
    "e = e.round(1)\n",
    "print('Before Clean:',e.shape)\n",
    "e.dropna(how = 'any', inplace=True)\n",
    "e.reset_index(drop=True, inplace=True)\n",
    "print('After Clean:', e.shape)"
   ]
  },
  {
   "cell_type": "code",
   "execution_count": 4,
   "metadata": {
    "scrolled": true
   },
   "outputs": [],
   "source": [
    "#aa = a.copy()\n",
    "#aa.fillna(aa.median(numeric_only=True, skipna=True), inplace=True)\n",
    "#aa.fillna(aa.mode().iloc[0], inplace=True)\n",
    "\n",
    "bb = b.copy()\n",
    "bb.fillna(bb.median(numeric_only=True, skipna=True), inplace=True)\n",
    "bb.fillna(bb.mode().iloc[0], inplace=True)\n",
    "\n",
    "cc = c.copy()\n",
    "cc.fillna(cc.median(numeric_only=True, skipna=True), inplace=True)\n",
    "cc.fillna(cc.mode().iloc[0], inplace=True)\n",
    "\n",
    "dd = d.copy()\n",
    "dd.fillna(dd.median(numeric_only=True, skipna=True), inplace=True)\n",
    "dd.fillna(dd.mode().iloc[0], inplace=True)\n",
    "\n",
    "ee = e.copy()\n",
    "ee.fillna(ee.median(numeric_only=True, skipna=True), inplace=True)\n",
    "ee.fillna(ee.mode().iloc[0], inplace=True)"
   ]
  },
  {
   "cell_type": "code",
   "execution_count": 8,
   "metadata": {
    "scrolled": true
   },
   "outputs": [],
   "source": [
    "def getCounts(labels):\n",
    "    values, counts = np.unique(labels, return_counts=True)\n",
    "    \n",
    "    d = {}\n",
    "    for v, c in zip(values, counts):\n",
    "        d[v] = c\n",
    "    return d\n",
    "\n",
    "def calcEntropy(labels):\n",
    "    counts_raw = np.array(list(labels.values())) \n",
    "    if counts_raw.shape[0] == 1:\n",
    "        return 0\n",
    "    counts = counts_raw[counts_raw.nonzero()]\n",
    "    \n",
    "    probs = counts/counts.sum() #get probs of feature\n",
    "    \n",
    "    label_entropy = -np.sum(probs * np.log(probs)) #calculate entropy\n",
    "    entropy_weight = 2*(1 - 1/(1 + np.exp(-label_entropy)))\n",
    "    \n",
    "    return  entropy_weight * label_entropy\n",
    "\n",
    "def adjustEntropy(data, dicts):\n",
    "    entropy_row = np.zeros(len(dicts))\n",
    "    for pos, key  in enumerate(data): #find value to remove in each feature\n",
    "        dicts[pos][key] -= 1\n",
    "        entropy_row[pos] = calcEntropy(dicts[pos])\n",
    "        dicts[pos][key] += 1\n",
    "    return entropy_row\n",
    "\n",
    "def GreedyWeightedEntropy(data):\n",
    "    \n",
    "    d1 = [getCounts(data[col]) for col in data.columns] #get feature dicts\n",
    "    tot_e = np.sum([calcEntropy(d) for d in d1]) #calc initial weighted-entropy\n",
    "    o_factors = np.array([tot_e for x in range(data.shape[0])])\n",
    "    for i in data.index: \n",
    "        \n",
    "        adjusted = adjustEntropy(data.iloc[i], d1).sum()\n",
    "        o_factors[i] -= adjusted\n",
    "            \n",
    "    return np.where(o_factors > 0), o_factors\n",
    "    "
   ]
  },
  {
   "cell_type": "code",
   "execution_count": null,
   "metadata": {
    "scrolled": false
   },
   "outputs": [
    {
     "name": "stdout",
     "output_type": "stream",
     "text": [
      "(array([39, 40], dtype=int64),)\n"
     ]
    }
   ],
   "source": [
    "for data in [(b,'3nja-bsch'),(c,'avir-tzek'),(d,'h3zm-ta5h'),(e,'m59i-mqex')]:\n",
    "    outliers, factors = GreedyWeightedEntropy(data[0])\n",
    "    print(outliers)\n",
    "    fig = plt.figure(figsize=(8,6))\n",
    "    \n",
    "    factors_pos = factors.copy()\n",
    "    factors_neg = factors.copy()\n",
    "\n",
    "    factors_pos[factors_pos <= 0] = np.nan\n",
    "    factors_neg[factors_neg > 0] = np.nan\n",
    "    \n",
    "    \n",
    "    plt.scatter(data[0].index, factors_pos, color='r')\n",
    "    plt.scatter(data[0].index, factors_neg, color='b')\n",
    "    plt.grid()\n",
    "    plt.xlabel('Row Index')\n",
    "    plt.ylabel('Outlier Factor')\n",
    "    plt.suptitle('GWE Results\\n{}'.format(data[1]))\n",
    "    fig.savefig('{}.png'.format(data[1]), bbox_inches='tight')"
   ]
  }
 ],
 "metadata": {
  "kernelspec": {
   "display_name": "Python 3",
   "language": "python",
   "name": "python3"
  },
  "language_info": {
   "codemirror_mode": {
    "name": "ipython",
    "version": 3
   },
   "file_extension": ".py",
   "mimetype": "text/x-python",
   "name": "python",
   "nbconvert_exporter": "python",
   "pygments_lexer": "ipython3",
   "version": "3.6.4"
  }
 },
 "nbformat": 4,
 "nbformat_minor": 2
}
