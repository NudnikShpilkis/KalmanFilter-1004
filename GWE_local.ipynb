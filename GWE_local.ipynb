{
 "cells": [
  {
   "cell_type": "code",
   "execution_count": 1,
   "metadata": {},
   "outputs": [],
   "source": [
    "import numpy as np\n",
    "import pandas as pd\n",
    "from scipy import stats\n",
    "import matplotlib.pyplot as plt\n",
    "%matplotlib inline"
   ]
  },
  {
   "cell_type": "code",
   "execution_count": 2,
   "metadata": {},
   "outputs": [],
   "source": [
    "a = pd.read_csv('data/2pmj-y4p4.tsv', sep='\\t')\n",
    "a = a.round(1)\n",
    "b = pd.read_csv('data/3nja-bsch.tsv', sep='\\t')\n",
    "b = b.round(1)\n",
    "c = pd.read_csv('data/avir-tzek.tsv', sep='\\t')\n",
    "d = c.round(1)\n",
    "d = pd.read_csv('data/h3zm-ta5h.tsv', sep='\\t')\n",
    "d = d.round(1)\n",
    "e = pd.read_csv('data/m59i-mqex.tsv', sep='\\t')\n",
    "e = e.round(1)"
   ]
  },
  {
   "cell_type": "code",
   "execution_count": 4,
   "metadata": {
    "scrolled": true
   },
   "outputs": [],
   "source": [
    "aa = a.copy()\n",
    "aa.fillna(aa.median(numeric_only=True, skipna=True), inplace=True)\n",
    "aa.fillna(aa.mode().iloc[0], inplace=True)\n",
    "\n",
    "bb = b.copy()\n",
    "bb.fillna(bb.median(numeric_only=True, skipna=True), inplace=True)\n",
    "bb.fillna(bb.mode().iloc[0], inplace=True)\n",
    "\n",
    "cc = c.copy()\n",
    "cc.fillna(cc.median(numeric_only=True, skipna=True), inplace=True)\n",
    "cc.fillna(cc.mode().iloc[0], inplace=True)\n",
    "\n",
    "dd = d.copy()\n",
    "dd.fillna(dd.median(numeric_only=True, skipna=True), inplace=True)\n",
    "dd.fillna(dd.mode().iloc[0], inplace=True)\n",
    "\n",
    "ee = e.copy()\n",
    "ee.fillna(ee.median(numeric_only=True, skipna=True), inplace=True)\n",
    "ee.fillna(ee.mode().iloc[0], inplace=True)"
   ]
  },
  {
   "cell_type": "code",
   "execution_count": 13,
   "metadata": {
    "scrolled": true
   },
   "outputs": [],
   "source": [
    "def getCounts(labels):\n",
    "    values, counts = np.unique(labels, return_counts=True)\n",
    "    \n",
    "    d = {}\n",
    "    for v, c in zip(values, counts):\n",
    "        d[v] = c\n",
    "    return d\n",
    "\n",
    "def calcEntropy(labels):\n",
    "    counts_raw = np.array(list(labels.values())) \n",
    "    if counts_raw.shape[0] == 1:\n",
    "        return 0\n",
    "    counts = counts_raw[counts_raw.nonzero()]\n",
    "    \n",
    "    probs = counts/counts.sum() #get probs of feature\n",
    "    \n",
    "    label_entropy = -np.sum(probs * np.log(probs)) #calculate entropy\n",
    "    entropy_weight = 2*(1 - 1/(1 + np.exp(-label_entropy)))\n",
    "    \n",
    "    return  entropy_weight * label_entropy\n",
    "\n",
    "def adjustEntropy(data, dicts):\n",
    "    entropy_row = np.zeros(len(dicts))\n",
    "    for pos, key  in enumerate(data): #find value to remove in each feature\n",
    "        dicts[pos][key] -= 1\n",
    "        entropy_row[pos] = calcEntropy(dicts[pos])\n",
    "        dicts[pos][key] += 1\n",
    "    return entropy_row\n",
    "\n",
    "def GreedyWeightedEntropy(data):\n",
    "    \n",
    "    d1 = [getCounts(data[col]) for col in data.columns] #get feature dicts\n",
    "    tot_e = np.sum([calcEntropy(d) for d in d1]) #calc initial weighted-entropy\n",
    "    o_factors = np.array([tot_e for x in range(data.shape[0])])\n",
    "    for i in data.index: \n",
    "        \n",
    "        adjusted = adjustEntropy(data.iloc[i], d1).sum()\n",
    "        o_factors[i] -= adjusted\n",
    "            \n",
    "    return np.where(o_factors > 0), o_factors\n",
    "    "
   ]
  },
  {
   "cell_type": "code",
   "execution_count": 61,
   "metadata": {},
   "outputs": [],
   "source": [
    "def GreedyWeightedEntropy2(data):\n",
    "    \n",
    "    d1 = [getCounts(data[col]) for col in data.columns] #get feature dicts\n",
    "    tot_e = np.sum([calcEntropy(d) for d in d1]) #calc initial weighted-entropy\n",
    "    print(tot_e)\n",
    "    o_factors = np.array([tot_e for x in range(data.shape[0])])\n",
    "    for i in data.index: \n",
    "        \n",
    "        adjusted = adjustEntropy(data.iloc[i], d1).sum()\n",
    "        o_factors[i] -= adjusted\n",
    "        \n",
    "    mask = np.zeros(data.shape[0], dtype=bool)\n",
    "    mask[np.where(o_factors < 0)] = True\n",
    "    data2 = data.iloc[mask,:]\n",
    "    data2.reset_index(drop=True, inplace=True)\n",
    "    d2 = [getCounts(data2[col]) for col in data2.columns] #get feature dicts\n",
    "    tot_e2 = np.sum([calcEntropy(d) for d in d2]) #calc initial weighted-entropy\n",
    "    print(tot_e2)\n",
    "    o_factors2 = np.array([tot_e2 for x in range(data2.shape[0])])\n",
    "    \n",
    "    for i in data2.index: \n",
    "        \n",
    "        adjusted = adjustEntropy(data2.iloc[i], d2).sum()\n",
    "        o_factors2[i] -= adjusted\n",
    "        \n",
    "    mask2 = np.zeros(data2.shape[0], dtype=bool)\n",
    "    mask2[np.where(o_factors2 < 0)] = True\n",
    "    data3 = data.iloc[mask2,:]\n",
    "    data3.reset_index(drop=True, inplace=True)\n",
    "    d3 = [getCounts(data3[col]) for col in data3.columns] #get feature dicts\n",
    "    tot_e3 = np.sum([calcEntropy(d) for d in d3]) #calc initial weighted-entropy\n",
    "    print(tot_e3)\n",
    "    o_factors3 = np.array([tot_e3 for x in range(data3.shape[0])])\n",
    "    \n",
    "    for i in data3.index: \n",
    "        \n",
    "        adjusted = adjustEntropy(data3.iloc[i], d3).sum()\n",
    "        o_factors3[i] -= adjusted\n",
    "            \n",
    "    return o_factors, o_factors2, o_factors3"
   ]
  },
  {
   "cell_type": "code",
   "execution_count": 62,
   "metadata": {
    "scrolled": true
   },
   "outputs": [
    {
     "name": "stdout",
     "output_type": "stream",
     "text": [
      "2.645399709904469\n",
      "2.6168463980172874\n",
      "2.796987481627875\n"
     ]
    }
   ],
   "source": [
    "o1, o2, o3 = GreedyWeightedEntropy2(d)"
   ]
  },
  {
   "cell_type": "code",
   "execution_count": 56,
   "metadata": {},
   "outputs": [
    {
     "data": {
      "text/plain": [
       "(array([  1,   5,   9,  11,  13,  19,  27,  29,  31,  63,  73,  75,  77,\n",
       "         79,  86,  88,  90,  92,  94,  96,  99, 103, 141, 144, 158, 160,\n",
       "        162, 171, 173, 213, 219, 224, 228, 230, 232, 234, 236, 238, 240,\n",
       "        244, 246, 248, 255, 281, 283, 285, 293, 295, 309, 311, 338, 342,\n",
       "        344], dtype=int64),)"
      ]
     },
     "execution_count": 56,
     "metadata": {},
     "output_type": "execute_result"
    }
   ],
   "source": [
    "np.where(o2 > 0)"
   ]
  },
  {
   "cell_type": "code",
   "execution_count": 53,
   "metadata": {},
   "outputs": [
    {
     "data": {
      "text/plain": [
       "array([-0.06632139, -0.07080543, -0.05390772, -0.05631524, -0.06220063,\n",
       "       -0.0675348 , -0.07379006, -0.06243405, -0.05551784, -0.06220063,\n",
       "       -0.0559466 , -0.0675348 , -0.05389867, -0.06533604, -0.06189001,\n",
       "       -0.08129833, -0.05946818, -0.06632139, -0.06220063, -0.07648997,\n",
       "       -0.04956834, -0.06389022, -0.07030776, -0.05831546, -0.06868427,\n",
       "       -0.06170297, -0.056467  , -0.06222878, -0.06582372, -0.0732924 ,\n",
       "       -0.05341006, -0.06582372, -0.06193638, -0.05350639, -0.05064059,\n",
       "       -0.06520702, -0.07030776, -0.05850176, -0.07599231])"
      ]
     },
     "execution_count": 53,
     "metadata": {},
     "output_type": "execute_result"
    }
   ],
   "source": [
    "o2"
   ]
  },
  {
   "cell_type": "code",
   "execution_count": 40,
   "metadata": {
    "scrolled": true
   },
   "outputs": [
    {
     "name": "stdout",
     "output_type": "stream",
     "text": [
      "4.642395381933682\n"
     ]
    }
   ],
   "source": [
    "data = pd.read_csv('data/3nja-bsch.tsv', sep='\\t', na_filter=np.nan)\n",
    "data.dropna(how = 'any', inplace=True)\n",
    "data.reset_index(drop=True, inplace=True)\n",
    "\n",
    "o_probs = GreedyWeightedEntropy(data)\n",
    "#fig = plt.figure(figsize=(8,6))\n",
    "#plt.plot(data.index, o_probs)\n",
    "#plt.grid()"
   ]
  },
  {
   "cell_type": "code",
   "execution_count": 27,
   "metadata": {},
   "outputs": [
    {
     "name": "stdout",
     "output_type": "stream",
     "text": [
      "(array([39, 40], dtype=int64),)\n"
     ]
    },
    {
     "data": {
      "image/png": "[encoded data removed]",
      "text/plain": [
       "<Figure size 576x432 with 1 Axes>"
      ]
     },
     "metadata": {},
     "output_type": "display_data"
    }
   ],
   "source": [
    "b.dropna(how = 'any', inplace=True)\n",
    "b.reset_index(drop=True, inplace=True)\n",
    "\n",
    "outliers, o_factors = GreedyWeightedEntropy(b)\n",
    "print(outliers)\n",
    "fig = plt.figure(figsize=(8,6))\n",
    "plt.scatter(b.index, o_factors)\n",
    "plt.grid()"
   ]
  },
  {
   "cell_type": "code",
   "execution_count": null,
   "metadata": {},
   "outputs": [],
   "source": [
    "savefig('foo.png', bbox_inches='tight')"
   ]
  },
  {
   "cell_type": "code",
   "execution_count": 24,
   "metadata": {},
   "outputs": [
    {
     "name": "stdout",
     "output_type": "stream",
     "text": [
      "(array([], dtype=int64),)\n"
     ]
    },
    {
     "data": {
      "image/png": "[encoded data removed]",
      "text/plain": [
       "<Figure size 576x432 with 1 Axes>"
      ]
     },
     "metadata": {},
     "output_type": "display_data"
    }
   ],
   "source": [
    "c.dropna(how = 'any', inplace=True)\n",
    "c.reset_index(drop=True, inplace=True)\n",
    "\n",
    "outliers, o_factors = GreedyWeightedEntropy(c)\n",
    "print(outliers)\n",
    "fig = plt.figure(figsize=(8b,6))\n",
    "plt.scatter(c.index, o_factors)\n",
    "plt.grid()"
   ]
  },
  {
   "cell_type": "code",
   "execution_count": 23,
   "metadata": {},
   "outputs": [
    {
     "name": "stdout",
     "output_type": "stream",
     "text": [
      "(array([  0,  16,  20,  26,  30,  38,  40,  42,  46,  48,  50,  52,  54,\n",
      "        56,  58,  60,  62,  64,  66,  68,  70,  72,  74,  76,  78,  80,\n",
      "        82,  96,  98, 114, 128, 136, 138, 144, 146, 148, 150, 152, 154,\n",
      "       156, 158, 160, 162, 164, 166, 168, 170, 172, 174, 178, 180, 194,\n",
      "       206, 208, 218, 220, 222, 226, 228, 234, 236, 240, 242, 244, 246,\n",
      "       248, 250, 254, 256, 258, 260, 262, 264, 266, 270, 272, 274, 276,\n",
      "       278, 290, 292, 304, 324, 326, 334, 338, 340, 344, 346, 348, 350,\n",
      "       352, 354, 356, 358, 360, 362, 364, 366, 370, 372, 374, 376, 390,\n",
      "       392, 402, 404, 406, 408, 412, 414, 416, 418, 420, 422, 428, 430,\n",
      "       432, 434, 436, 438, 440, 442, 444, 446, 448, 450, 452, 454, 456,\n",
      "       458, 460, 462, 464, 466, 468, 470, 472, 474, 476, 486, 488],\n",
      "      dtype=int64),)\n"
     ]
    },
    {
     "data": {
      "image/png": "[encoded data removed]",
      "text/plain": [
       "<Figure size 576x432 with 1 Axes>"
      ]
     },
     "metadata": {},
     "output_type": "display_data"
    }
   ],
   "source": [
    "d.dropna(how = 'any', inplace=True)\n",
    "d.reset_index(drop=True, inplace=True)\n",
    "\n",
    "outliers, o_factors = GreedyWeightedEntropy(d)\n",
    "print(outliers)\n",
    "fig = plt.figure(figsize=(8,6))\n",
    "plt.scatter(d.index, o_factors)\n",
    "plt.grid()"
   ]
  },
  {
   "cell_type": "code",
   "execution_count": 22,
   "metadata": {},
   "outputs": [
    {
     "name": "stdout",
     "output_type": "stream",
     "text": [
      "(array([ 24,  25,  35,  36,  38,  41,  42,  47,  50,  53,  55,  56,  59,\n",
      "        61,  68,  69,  70,  72,  74,  77,  78,  79,  81,  82,  92, 118,\n",
      "       119, 121, 122, 123, 124, 125, 126, 132, 133, 134, 135, 136, 137,\n",
      "       138, 140, 141, 143, 145, 146, 148, 149, 150, 151, 152, 154, 156,\n",
      "       160, 161, 162, 163, 166, 168, 170, 173, 174, 176, 178, 179, 181,\n",
      "       183, 187, 188, 195], dtype=int64),)\n"
     ]
    },
    {
     "data": {
      "image/png": "[encoded data removed]",
      "text/plain": [
       "<Figure size 576x432 with 1 Axes>"
      ]
     },
     "metadata": {},
     "output_type": "display_data"
    }
   ],
   "source": [
    "e.dropna(how = 'any', inplace=True)\n",
    "e.reset_index(drop=True, inplace=True)\n",
    "\n",
    "outliers, o_factors = GreedyWeightedEntropy(e)\n",
    "print(outliers)\n",
    "fig = plt.figure(figsize=(8,6))\n",
    "plt.scatter(e.index, o_factors)\n",
    "plt.grid()"
   ]
  }
 ],
 "metadata": {
  "kernelspec": {
   "display_name": "Python 3",
   "language": "python",
   "name": "python3"
  },
  "language_info": {
   "codemirror_mode": {
    "name": "ipython",
    "version": 3
   },
   "file_extension": ".py",
   "mimetype": "text/x-python",
   "name": "python",
   "nbconvert_exporter": "python",
   "pygments_lexer": "ipython3",
   "version": "3.6.4"
  }
 },
 "nbformat": 4,
 "nbformat_minor": 2
}
